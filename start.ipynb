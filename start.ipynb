{
  "nbformat": 4,
  "nbformat_minor": 0,
  "metadata": {
    "colab": {
      "provenance": [],
      "authorship_tag": "ABX9TyPO4aWAz1JwKL9h6jIAbhHc",
      "include_colab_link": true
    },
    "kernelspec": {
      "name": "python3",
      "display_name": "Python 3"
    },
    "language_info": {
      "name": "python"
    }
  },
  "cells": [
    {
      "cell_type": "markdown",
      "metadata": {
        "id": "view-in-github",
        "colab_type": "text"
      },
      "source": [
        "<a href=\"https://colab.research.google.com/github/Ash4dev/expert-octo-garbanzo/blob/main/start.ipynb\" target=\"_parent\"><img src=\"https://colab.research.google.com/assets/colab-badge.svg\" alt=\"Open In Colab\"/></a>"
      ]
    },
    {
      "cell_type": "code",
      "execution_count": 1,
      "metadata": {
        "colab": {
          "base_uri": "https://localhost:8080/"
        },
        "id": "WFwoHOtFjRe9",
        "outputId": "1450bd5f-3cf8-4b7d-88a1-bc4a8dcca038"
      },
      "outputs": [
        {
          "output_type": "stream",
          "name": "stdout",
          "text": [
            "Cloning into 'expert-octo-garbanzo'...\n",
            "remote: Enumerating objects: 8518, done.\u001b[K\n",
            "remote: Counting objects: 100% (8518/8518), done.\u001b[K\n",
            "remote: Compressing objects: 100% (8324/8324), done.\u001b[K\n",
            "remote: Total 8518 (delta 194), reused 8514 (delta 193), pack-reused 0\u001b[K\n",
            "Receiving objects: 100% (8518/8518), 4.21 MiB | 8.87 MiB/s, done.\n",
            "Resolving deltas: 100% (194/194), done.\n"
          ]
        }
      ],
      "source": [
        "!git clone https://github.com/Ash4dev/expert-octo-garbanzo.git"
      ]
    },
    {
      "cell_type": "markdown",
      "source": [
        "### Preprocessing steps\n",
        "1. load the songs\n",
        "2. filter out songs with non=acceptable durations\n",
        "3. transpose songs to C-major/A-minor\n",
        "4. encode songs with music time series representation\n",
        "5. save songs to a text fil"
      ],
      "metadata": {
        "id": "GLAJAyKOpa5j"
      }
    },
    {
      "cell_type": "code",
      "source": [
        "class preprocess_songs:\n",
        "    \n",
        "    def __init__(self, dataset_path):\n",
        "        self.path = dataset_path\n",
        "        \n",
        "    def load_songs(self):\n",
        "        pass\n",
        "    \n",
        "    def transpose_song(self, loaded_songs):\n",
        "        pass\n",
        "    \n",
        "    def encode_songs(self, transposed_songs):\n",
        "        pass\n",
        "    \n",
        "    def save_encoded_songs(self, encoded_songs):\n",
        "        pass"
      ],
      "metadata": {
        "id": "BeAivIqfja57"
      },
      "execution_count": null,
      "outputs": []
    },
    {
      "cell_type": "code",
      "source": [
        "import os\n",
        "import music21"
      ],
      "metadata": {
        "id": "cZOjjSYcw1iO"
      },
      "execution_count": null,
      "outputs": []
    },
    {
      "cell_type": "code",
      "source": [
        "# loading the files\n",
        "os.listdir('expert-octo-garbanzo/essen/europa/deutschl')"
      ],
      "metadata": {
        "colab": {
          "base_uri": "https://localhost:8080/"
        },
        "id": "YD6MorCnpf1i",
        "outputId": "22065e34-af14-42fe-d533-df09ceca41db"
      },
      "execution_count": null,
      "outputs": [
        {
          "output_type": "execute_result",
          "data": {
            "text/plain": [
              "['erk',\n",
              " 'zuccal',\n",
              " 'fink',\n",
              " 'kinder',\n",
              " 'altdeu2',\n",
              " 'test',\n",
              " 'allerkbd',\n",
              " 'altdeu1',\n",
              " 'boehme',\n",
              " 'ballad',\n",
              " 'variant',\n",
              " 'CKSUM',\n",
              " 'dva']"
            ]
          },
          "metadata": {},
          "execution_count": 10
        }
      ]
    },
    {
      "cell_type": "code",
      "source": [],
      "metadata": {
        "id": "yqgGwxwbw6Ai"
      },
      "execution_count": null,
      "outputs": []
    }
  ]
}