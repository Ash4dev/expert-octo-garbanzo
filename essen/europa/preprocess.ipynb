{
 "cells": [
  {
   "cell_type": "code",
   "execution_count": null,
   "id": "af9cbb5f",
   "metadata": {},
   "outputs": [],
   "source": [
    "import os\n",
    "import pandas as pd\n",
    "import numpy as np\n",
    "import tensorflow as tf\n",
    "import matplotlib.pyplot as plt\n",
    "import seaborn as sns\n",
    "import music21"
   ]
  },
  {
   "cell_type": "markdown",
   "id": "b03dc1b1",
   "metadata": {},
   "source": [
    "### Steps in preprocessing\n",
    "1. load the songs\n",
    "2. filter out songs with non=acceptable durations\n",
    "3. transpose songs to C-major/A-minor\n",
    "4. encode songs with music time series representation\n",
    "5. save songs to a text fil"
   ]
  },
  {
   "cell_type": "code",
   "execution_count": null,
   "id": "5aa3ceda",
   "metadata": {},
   "outputs": [],
   "source": [
    "class preprocess_songs:\n",
    "    \n",
    "    def __init__(self, dataset_path):\n",
    "        self.path = dataset_path\n",
    "        \n",
    "    def load_songs(self):\n",
    "        pass\n",
    "    \n",
    "    def transpose_song(self, loaded_songs):\n",
    "        pass\n",
    "    \n",
    "    def encode_songs(self, transposed_songs):\n",
    "        pass\n",
    "    \n",
    "    def save_encoded_songs(self, encoded_songs):\n",
    "        pass"
   ]
  },
  {
   "cell_type": "code",
   "execution_count": null,
   "id": "98f08e8b",
   "metadata": {},
   "outputs": [],
   "source": [
    "# loading the songs"
   ]
  }
 ],
 "metadata": {
  "kernelspec": {
   "display_name": "Python 3 (ipykernel)",
   "language": "python",
   "name": "python3"
  },
  "language_info": {
   "codemirror_mode": {
    "name": "ipython",
    "version": 3
   },
   "file_extension": ".py",
   "mimetype": "text/x-python",
   "name": "python",
   "nbconvert_exporter": "python",
   "pygments_lexer": "ipython3",
   "version": "3.10.6"
  }
 },
 "nbformat": 4,
 "nbformat_minor": 5
}
